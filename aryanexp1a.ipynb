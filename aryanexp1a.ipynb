{
  "nbformat": 4,
  "nbformat_minor": 0,
  "metadata": {
    "colab": {
      "provenance": [],
      "authorship_tag": "ABX9TyN3Rrcpl6X7Gymnygg0sM5r",
      "include_colab_link": true
    },
    "kernelspec": {
      "name": "python3",
      "display_name": "Python 3"
    },
    "language_info": {
      "name": "python"
    }
  },
  "cells": [
    {
      "cell_type": "markdown",
      "metadata": {
        "id": "view-in-github",
        "colab_type": "text"
      },
      "source": [
        "<a href=\"https://colab.research.google.com/github/aryanpatil458/image-pre-processing-/blob/main/aryanexp1a.ipynb\" target=\"_parent\"><img src=\"https://colab.research.google.com/assets/colab-badge.svg\" alt=\"Open In Colab\"/></a>"
      ]
    },
    {
      "cell_type": "code",
      "execution_count": null,
      "metadata": {
        "colab": {
          "base_uri": "https://localhost:8080/",
          "height": 245
        },
        "id": "eBuJj6b9kd81",
        "outputId": "74d6ad79-192f-4641-9c89-038ed0c2840a"
      },
      "outputs": [
        {
          "output_type": "stream",
          "name": "stdout",
          "text": [
            "Error: Could not load image. Please check the file path and format.\n"
          ]
        },
        {
          "output_type": "error",
          "ename": "error",
          "evalue": "OpenCV(4.11.0) /io/opencv/modules/imgproc/src/color.cpp:199: error: (-215:Assertion failed) !_src.empty() in function 'cvtColor'\n",
          "traceback": [
            "\u001b[0;31m---------------------------------------------------------------------------\u001b[0m",
            "\u001b[0;31merror\u001b[0m                                     Traceback (most recent call last)",
            "\u001b[0;32m<ipython-input-2-904eecf27197>\u001b[0m in \u001b[0;36m<cell line: 0>\u001b[0;34m()\u001b[0m\n\u001b[1;32m     20\u001b[0m \u001b[0;34m\u001b[0m\u001b[0m\n\u001b[1;32m     21\u001b[0m \u001b[0;31m# Convert BGR image to RGB\u001b[0m\u001b[0;34m\u001b[0m\u001b[0;34m\u001b[0m\u001b[0m\n\u001b[0;32m---> 22\u001b[0;31m \u001b[0mimage_rgb\u001b[0m \u001b[0;34m=\u001b[0m \u001b[0mcv2\u001b[0m\u001b[0;34m.\u001b[0m\u001b[0mcvtColor\u001b[0m\u001b[0;34m(\u001b[0m\u001b[0mimage\u001b[0m\u001b[0;34m,\u001b[0m \u001b[0mcv2\u001b[0m\u001b[0;34m.\u001b[0m\u001b[0mCOLOR_BGR2RGB\u001b[0m\u001b[0;34m)\u001b[0m\u001b[0;34m\u001b[0m\u001b[0;34m\u001b[0m\u001b[0m\n\u001b[0m\u001b[1;32m     23\u001b[0m \u001b[0;34m\u001b[0m\u001b[0m\n\u001b[1;32m     24\u001b[0m \u001b[0;31m# Rest of your code...\u001b[0m\u001b[0;34m\u001b[0m\u001b[0;34m\u001b[0m\u001b[0m\n",
            "\u001b[0;31merror\u001b[0m: OpenCV(4.11.0) /io/opencv/modules/imgproc/src/color.cpp:199: error: (-215:Assertion failed) !_src.empty() in function 'cvtColor'\n"
          ]
        }
      ],
      "source": [
        "# Import the necessary libraries\n",
        "import cv2\n",
        "import numpy as np\n",
        "import matplotlib.pyplot as plt\n",
        "\n",
        "# Load the image\n",
        "image = cv2.imread('Ganeshji.webp')\n",
        "# Import the necessary libraries\n",
        "import cv2\n",
        "import numpy as np\n",
        "import matplotlib.pyplot as plt\n",
        "\n",
        "# Load the image\n",
        "image = cv2.imread('Ganeshji.webp')\n",
        "\n",
        "# Check if the image was loaded successfully\n",
        "if image is None:\n",
        "    print(\"Error: Could not load image. Please check the file path and format.\")\n",
        "    exit() # or handle the error in another way\n",
        "\n",
        "# Convert BGR image to RGB\n",
        "image_rgb = cv2.cvtColor(image, cv2.COLOR_BGR2RGB)\n",
        "\n",
        "# Rest of your code...\n",
        "\n",
        "\n",
        "# Convert BGR image to RGB\n",
        "image_rgb = cv2.cvtColor(image, cv2.COLOR_BGR2RGB)\n",
        "\n",
        "# Define the scale factor\n",
        "# Increase the size by 3 times\n",
        "scale_factor_1 = 3.0\n",
        "# Decrease the size by 3 times\n",
        "scale_factor_2 = 1/3.0\n",
        "\n",
        "# Get the original image dimensions\n",
        "height, width = image_rgb.shape[:2]\n",
        "\n",
        "# Calculate the new image dimensions\n",
        "new_height = int(height * scale_factor_1)\n",
        "new_width = int(width * scale_factor_1)\n",
        "\n",
        "# Resize the image\n",
        "zoomed_image = cv2.resize(src =image_rgb,\n",
        "                          dsize=(new_width, new_height),\n",
        "                          interpolation=cv2.INTER_CUBIC)\n",
        "\n",
        "# Calculate the new image dimensions\n",
        "new_height1 = int(height * scale_factor_2)\n",
        "new_width1 = int(width * scale_factor_2)\n",
        "\n",
        "# Scaled image\n",
        "scaled_image = cv2.resize(src= image_rgb,\n",
        "                          dsize =(new_width1, new_height1),\n",
        "                          interpolation=cv2.INTER_AREA)\n",
        "\n",
        "# Create subplots\n",
        "fig, axs = plt.subplots(1, 3, figsize=(10, 4))\n",
        "\n",
        "# Plot the original image\n",
        "axs[0].imshow(image_rgb)\n",
        "axs[0].set_title('Original Image Shape:'+str(image_rgb.shape))\n",
        "\n",
        "# Plot the Zoomed Image\n",
        "axs[1].imshow(zoomed_image)\n",
        "axs[1].set_title('Zoomed Image Shape:'+str(zoomed_image.shape))\n",
        "\n",
        "# Plot the Scaled Image\n",
        "axs[2].imshow(scaled_image)\n",
        "axs[2].set_title('Scaled Image Shape:'+str(scaled_image.shape))\n",
        "\n",
        "# Remove ticks from the subplots\n",
        "for ax in axs:\n",
        "    ax.set_xticks([])\n",
        "    ax.set_yticks([])\n",
        "\n",
        "# Display the subplots\n",
        "plt.tight_layout()\n",
        "plt.show()\n"
      ]
    }
  ]
}